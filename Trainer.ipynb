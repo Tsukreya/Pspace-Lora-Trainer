{
 "cells": [
  {
   "cell_type": "markdown",
   "id": "f4ff46a9-bd18-4afa-8bc2-410eb0e8ce47",
   "metadata": {
    "tags": []
   },
   "source": [
    "# ao汁's scuffed LoRA trainer\n",
    "\n",
    "Probably use JupyterLab for this.\n",
    "\n"
   ]
  },
  {
   "cell_type": "code",
   "execution_count": null,
   "id": "17e0c923-385f-4615-b6a6-7fd88fa2ca67",
   "metadata": {},
   "outputs": [],
   "source": [
    "# install requirements\n",
    "%cd /\n",
    "!git clone https://github.com/kohya-ss/sd-scripts\n",
    "%cd sd-scripts\n",
    "!pip install -r requirements.txt\n",
    "!pip install xformers\n",
    "!pip install bitsandbytes\n",
    "!accelerate config default --mixed_precision bf16\n",
    "!apt update\n",
    "!apt install -y aria2"
   ]
  },
  {
   "cell_type": "code",
   "execution_count": null,
   "id": "c4d81e4a-75e4-4e66-adb6-d5d71e611300",
   "metadata": {
    "tags": []
   },
   "outputs": [],
   "source": [
    "# Edit this cell if you want a different model or an output path, provide a .zip url with captioned images (for now, I'll add some options later)\n",
    "# persistent storage\n",
    "lora_output_dir = \"/notebooks/LoRA\"\n",
    "# model to train on\n",
    "model_url = \"https://huggingface.co/Aotsuyu/NOTHINGSUSHERE/resolve/main/animefull-final-pruned.ckpt\"\n",
    "dataset = \"something.zip\"\n",
    "!aria2c $model_url -x 16 -k 1M -s 16 -d / --console-log-level=error -o animefull-final-pruned.ckpt\n --continue=true",
    "!aria2c https://raw.githubusercontent.com/Tsukreya/Pspace-Lora-Trainer/main/config.toml -d /notebooks\n --continue=true",
    "!aria2c https://raw.githubusercontent.com/Tsukreya/Pspace-Lora-Trainer/main/dataset.toml -d /notebooks\n --continue=true",
    "!aria2c $dataset -d / -o dataset.zip\n --continue=true",
    "!unzip /dataset.zip -d /images"
   ]
  },
  {
   "cell_type": "code",
   "execution_count": null,
   "id": "6d9d01d0-c4d3-4600-bc19-506bcb30894c",
   "metadata": {},
   "outputs": [],
   "source": [
    "# Now go edit your settings in your notebook directory, edit config toml and dataset.toml, make sure to ctrl+s whatever you edited"
   ]
  },
  {
   "cell_type": "code",
   "execution_count": null,
   "id": "233adcce-4aed-48c0-bd26-e24208869b21",
   "metadata": {},
   "outputs": [],
   "source": [
    "%cd /\n",
    "%cd sd-scripts\n",
    "!python train_network.py --config_file=/notebooks/config.toml --dataset_config=/notebooks/config.toml"
   ]
  }
 ],
 "metadata": {
  "kernelspec": {
   "display_name": "Python 3 (ipykernel)",
   "language": "python",
   "name": "python3"
  },
  "language_info": {
   "codemirror_mode": {
    "name": "ipython",
    "version": 3
   },
   "file_extension": ".py",
   "mimetype": "text/x-python",
   "name": "python",
   "nbconvert_exporter": "python",
   "pygments_lexer": "ipython3",
   "version": "3.9.16"
  }
 },
 "nbformat": 4,
 "nbformat_minor": 5
}
